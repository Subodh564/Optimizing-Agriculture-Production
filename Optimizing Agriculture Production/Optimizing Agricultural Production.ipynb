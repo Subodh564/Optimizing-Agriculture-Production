{
 "cells": [
  {
   "cell_type": "code",
   "execution_count": 1,
   "id": "94a3de4b",
   "metadata": {},
   "outputs": [],
   "source": [
    "%matplotlib inline\n",
    "import numpy as np\n",
    "import pandas as pd\n",
    "import matplotlib.pyplot as plt\n",
    "import seaborn as sns\n",
    "from ipywidgets import interact\n",
    "import sklearn as sk\n"
   ]
  },
  {
   "cell_type": "code",
   "execution_count": 2,
   "id": "b8872252",
   "metadata": {},
   "outputs": [
    {
     "data": {
      "text/html": [
       "<div>\n",
       "<style scoped>\n",
       "    .dataframe tbody tr th:only-of-type {\n",
       "        vertical-align: middle;\n",
       "    }\n",
       "\n",
       "    .dataframe tbody tr th {\n",
       "        vertical-align: top;\n",
       "    }\n",
       "\n",
       "    .dataframe thead th {\n",
       "        text-align: right;\n",
       "    }\n",
       "</style>\n",
       "<table border=\"1\" class=\"dataframe\">\n",
       "  <thead>\n",
       "    <tr style=\"text-align: right;\">\n",
       "      <th></th>\n",
       "      <th>N</th>\n",
       "      <th>P</th>\n",
       "      <th>K</th>\n",
       "      <th>temperature</th>\n",
       "      <th>humidity</th>\n",
       "      <th>ph</th>\n",
       "      <th>rainfall</th>\n",
       "      <th>label</th>\n",
       "    </tr>\n",
       "  </thead>\n",
       "  <tbody>\n",
       "    <tr>\n",
       "      <th>0</th>\n",
       "      <td>90</td>\n",
       "      <td>42</td>\n",
       "      <td>43</td>\n",
       "      <td>20.879744</td>\n",
       "      <td>82.002744</td>\n",
       "      <td>6.502985</td>\n",
       "      <td>202.935536</td>\n",
       "      <td>rice</td>\n",
       "    </tr>\n",
       "    <tr>\n",
       "      <th>1</th>\n",
       "      <td>85</td>\n",
       "      <td>58</td>\n",
       "      <td>41</td>\n",
       "      <td>21.770462</td>\n",
       "      <td>80.319644</td>\n",
       "      <td>7.038096</td>\n",
       "      <td>226.655537</td>\n",
       "      <td>rice</td>\n",
       "    </tr>\n",
       "  </tbody>\n",
       "</table>\n",
       "</div>"
      ],
      "text/plain": [
       "    N   P   K  temperature   humidity        ph    rainfall label\n",
       "0  90  42  43    20.879744  82.002744  6.502985  202.935536  rice\n",
       "1  85  58  41    21.770462  80.319644  7.038096  226.655537  rice"
      ]
     },
     "execution_count": 2,
     "metadata": {},
     "output_type": "execute_result"
    }
   ],
   "source": [
    "## Reading csv file Using pandas library\n",
    "data = pd.read_csv(\"data.csv\")\n",
    "data.head(2)"
   ]
  },
  {
   "cell_type": "code",
   "execution_count": 3,
   "id": "ff714797",
   "metadata": {},
   "outputs": [
    {
     "data": {
      "text/html": [
       "<div>\n",
       "<style scoped>\n",
       "    .dataframe tbody tr th:only-of-type {\n",
       "        vertical-align: middle;\n",
       "    }\n",
       "\n",
       "    .dataframe tbody tr th {\n",
       "        vertical-align: top;\n",
       "    }\n",
       "\n",
       "    .dataframe thead th {\n",
       "        text-align: right;\n",
       "    }\n",
       "</style>\n",
       "<table border=\"1\" class=\"dataframe\">\n",
       "  <thead>\n",
       "    <tr style=\"text-align: right;\">\n",
       "      <th></th>\n",
       "      <th>N</th>\n",
       "      <th>P</th>\n",
       "      <th>K</th>\n",
       "      <th>temperature</th>\n",
       "      <th>humidity</th>\n",
       "      <th>ph</th>\n",
       "      <th>rainfall</th>\n",
       "      <th>label</th>\n",
       "    </tr>\n",
       "  </thead>\n",
       "  <tbody>\n",
       "    <tr>\n",
       "      <th>0</th>\n",
       "      <td>False</td>\n",
       "      <td>False</td>\n",
       "      <td>False</td>\n",
       "      <td>False</td>\n",
       "      <td>False</td>\n",
       "      <td>False</td>\n",
       "      <td>False</td>\n",
       "      <td>False</td>\n",
       "    </tr>\n",
       "    <tr>\n",
       "      <th>1</th>\n",
       "      <td>False</td>\n",
       "      <td>False</td>\n",
       "      <td>False</td>\n",
       "      <td>False</td>\n",
       "      <td>False</td>\n",
       "      <td>False</td>\n",
       "      <td>False</td>\n",
       "      <td>False</td>\n",
       "    </tr>\n",
       "    <tr>\n",
       "      <th>2</th>\n",
       "      <td>False</td>\n",
       "      <td>False</td>\n",
       "      <td>False</td>\n",
       "      <td>False</td>\n",
       "      <td>False</td>\n",
       "      <td>False</td>\n",
       "      <td>False</td>\n",
       "      <td>False</td>\n",
       "    </tr>\n",
       "    <tr>\n",
       "      <th>3</th>\n",
       "      <td>False</td>\n",
       "      <td>False</td>\n",
       "      <td>False</td>\n",
       "      <td>False</td>\n",
       "      <td>False</td>\n",
       "      <td>False</td>\n",
       "      <td>False</td>\n",
       "      <td>False</td>\n",
       "    </tr>\n",
       "    <tr>\n",
       "      <th>4</th>\n",
       "      <td>False</td>\n",
       "      <td>False</td>\n",
       "      <td>False</td>\n",
       "      <td>False</td>\n",
       "      <td>False</td>\n",
       "      <td>False</td>\n",
       "      <td>False</td>\n",
       "      <td>False</td>\n",
       "    </tr>\n",
       "    <tr>\n",
       "      <th>...</th>\n",
       "      <td>...</td>\n",
       "      <td>...</td>\n",
       "      <td>...</td>\n",
       "      <td>...</td>\n",
       "      <td>...</td>\n",
       "      <td>...</td>\n",
       "      <td>...</td>\n",
       "      <td>...</td>\n",
       "    </tr>\n",
       "    <tr>\n",
       "      <th>2195</th>\n",
       "      <td>False</td>\n",
       "      <td>False</td>\n",
       "      <td>False</td>\n",
       "      <td>False</td>\n",
       "      <td>False</td>\n",
       "      <td>False</td>\n",
       "      <td>False</td>\n",
       "      <td>False</td>\n",
       "    </tr>\n",
       "    <tr>\n",
       "      <th>2196</th>\n",
       "      <td>False</td>\n",
       "      <td>False</td>\n",
       "      <td>False</td>\n",
       "      <td>False</td>\n",
       "      <td>False</td>\n",
       "      <td>False</td>\n",
       "      <td>False</td>\n",
       "      <td>False</td>\n",
       "    </tr>\n",
       "    <tr>\n",
       "      <th>2197</th>\n",
       "      <td>False</td>\n",
       "      <td>False</td>\n",
       "      <td>False</td>\n",
       "      <td>False</td>\n",
       "      <td>False</td>\n",
       "      <td>False</td>\n",
       "      <td>False</td>\n",
       "      <td>False</td>\n",
       "    </tr>\n",
       "    <tr>\n",
       "      <th>2198</th>\n",
       "      <td>False</td>\n",
       "      <td>False</td>\n",
       "      <td>False</td>\n",
       "      <td>False</td>\n",
       "      <td>False</td>\n",
       "      <td>False</td>\n",
       "      <td>False</td>\n",
       "      <td>False</td>\n",
       "    </tr>\n",
       "    <tr>\n",
       "      <th>2199</th>\n",
       "      <td>False</td>\n",
       "      <td>False</td>\n",
       "      <td>False</td>\n",
       "      <td>False</td>\n",
       "      <td>False</td>\n",
       "      <td>False</td>\n",
       "      <td>False</td>\n",
       "      <td>False</td>\n",
       "    </tr>\n",
       "  </tbody>\n",
       "</table>\n",
       "<p>2200 rows × 8 columns</p>\n",
       "</div>"
      ],
      "text/plain": [
       "          N      P      K  temperature  humidity     ph  rainfall  label\n",
       "0     False  False  False        False     False  False     False  False\n",
       "1     False  False  False        False     False  False     False  False\n",
       "2     False  False  False        False     False  False     False  False\n",
       "3     False  False  False        False     False  False     False  False\n",
       "4     False  False  False        False     False  False     False  False\n",
       "...     ...    ...    ...          ...       ...    ...       ...    ...\n",
       "2195  False  False  False        False     False  False     False  False\n",
       "2196  False  False  False        False     False  False     False  False\n",
       "2197  False  False  False        False     False  False     False  False\n",
       "2198  False  False  False        False     False  False     False  False\n",
       "2199  False  False  False        False     False  False     False  False\n",
       "\n",
       "[2200 rows x 8 columns]"
      ]
     },
     "execution_count": 3,
     "metadata": {},
     "output_type": "execute_result"
    }
   ],
   "source": [
    "data.isnull()"
   ]
  },
  {
   "cell_type": "code",
   "execution_count": 4,
   "id": "b388b5b4",
   "metadata": {},
   "outputs": [
    {
     "data": {
      "text/plain": [
       "Index(['N', 'P', 'K', 'temperature', 'humidity', 'ph', 'rainfall', 'label'], dtype='object')"
      ]
     },
     "execution_count": 4,
     "metadata": {},
     "output_type": "execute_result"
    }
   ],
   "source": [
    "data.columns"
   ]
  },
  {
   "cell_type": "code",
   "execution_count": 5,
   "id": "9095561c",
   "metadata": {},
   "outputs": [
    {
     "data": {
      "text/plain": [
       "N              0\n",
       "P              0\n",
       "K              0\n",
       "temperature    0\n",
       "humidity       0\n",
       "ph             0\n",
       "rainfall       0\n",
       "label          0\n",
       "dtype: int64"
      ]
     },
     "execution_count": 5,
     "metadata": {},
     "output_type": "execute_result"
    }
   ],
   "source": [
    "data.isnull().sum()"
   ]
  },
  {
   "cell_type": "code",
   "execution_count": 5,
   "id": "d2164308",
   "metadata": {},
   "outputs": [
    {
     "data": {
      "text/plain": [
       "0         rice\n",
       "1         rice\n",
       "2         rice\n",
       "3         rice\n",
       "4         rice\n",
       "         ...  \n",
       "2195    coffee\n",
       "2196    coffee\n",
       "2197    coffee\n",
       "2198    coffee\n",
       "2199    coffee\n",
       "Name: label, Length: 2200, dtype: object"
      ]
     },
     "execution_count": 5,
     "metadata": {},
     "output_type": "execute_result"
    }
   ],
   "source": [
    "## Checking the crops present in the dataset\n",
    "data[\"label\"]"
   ]
  },
  {
   "cell_type": "code",
   "execution_count": 6,
   "id": "81160a88",
   "metadata": {},
   "outputs": [
    {
     "name": "stdout",
     "output_type": "stream",
     "text": [
      "Aveerage Ratio of Nitrogen in the soli:50.55\n",
      "Average Ratio of Phosphrous in the soil:53.36\n",
      "Average Ratio of Potassium in the soil:48.15\n",
      "Average Temperature in Celsius:25.62\n",
      "Average Relative Humidity in %:71.48\n",
      "Average PH value of the soil:6.47\n",
      "Average Rainfall in mm:103.46\n",
      "Average Rainfall in mm:103.46\n"
     ]
    }
   ],
   "source": [
    "## Check the summary for all the crops\n",
    "print(\"Aveerage Ratio of Nitrogen in the soli:{0:.2f}\".format(data[\"N\"].mean()))\n",
    "print(\"Average Ratio of Phosphrous in the soil:{0:.2f}\".format(data[\"P\"].mean()))\n",
    "print(\"Average Ratio of Potassium in the soil:{0:.2f}\".format(data[\"K\"].mean()))\n",
    "print(\"Average Temperature in Celsius:{0:.2f}\".format(data[\"temperature\"].mean()))\n",
    "print(\"Average Relative Humidity in %:{0:.2f}\".format(data[\"humidity\"].mean()))\n",
    "print(\"Average PH value of the soil:{0:.2f}\".format(data[\"ph\"].mean()))\n",
    "print(\"Average Rainfall in mm:{0:.2f}\".format(data[\"rainfall\"].mean()))\n",
    "print(\"Average Rainfall in mm:{0:.2f}\".format(data[\"rainfall\"].mean()))"
   ]
  },
  {
   "cell_type": "code",
   "execution_count": 12,
   "id": "6aa4ec9d",
   "metadata": {},
   "outputs": [
    {
     "data": {
      "application/vnd.jupyter.widget-view+json": {
       "model_id": "b32921acfd9b460dabea65c90c404dd3",
       "version_major": 2,
       "version_minor": 0
      },
      "text/plain": [
       "interactive(children=(Dropdown(description='crops', options=('maize', 'rice', 'banana', 'papaya', 'jute', 'cot…"
      ]
     },
     "metadata": {},
     "output_type": "display_data"
    }
   ],
   "source": [
    "## Checks the summary statistics for each oof the crops\n",
    "@interact\n",
    "def summary(crops=list(data[\"label\"].value_counts().index)):\n",
    "    x=data[data[\"label\"]==crops]\n",
    "    print(\"----------------------------------\")\n",
    "    print(\"Statistics for Nitrogen\")\n",
    "    print(\"Minimum Nitrogen required:\",x[\"N\"].min())\n",
    "    print(\"Average Nitrogen required:\",x[\"N\"].mean())\n",
    "    print(\"Maximum Nitrogen required:\",x[\"N\"].max())\n",
    "    print(\"----------------------------------\")\n",
    "    \n",
    "    print(\"Statistics for Phosporous\")\n",
    "    print(\"Minimum Phosporous required:\",x[\"P\"].min())\n",
    "    print(\"Average Phosporous required:\",x[\"P\"].mean())\n",
    "    print(\"Maximum Phosporous required:\",x[\"P\"].max())\n",
    "    print(\"-----------------------------------\")\n",
    "    \n",
    "    print(\"Statistics for Potassium\")\n",
    "    print(\"Minimum potassium required:\",x[\"K\"].min())\n",
    "    print(\"Average potassium required:\",x[\"K\"].mean())\n",
    "    print(\"Maximum potassium required:\",x[\"K\"].max())\n",
    "    \n",
    "    print(\"------------------------------------\")\n",
    "    \n",
    "    print(\"Statistics for Temperature\")\n",
    "    print(\"Minumum Temperature required:{0:.2f}\".format(x[\"temperature\"].min()))\n",
    "    print(\"Average Temperature required:{0:.2f}\".format(x[\"temperature\"].mean()))\n",
    "    print(\"Maximum Temperature required:{0:.2f}\".format(x[\"temperature\"].max()))\n",
    "    print(\"-------------------------------------\")\n",
    "    \n",
    "    print(\"Statistics for Humidity\")\n",
    "    print(\"Minumum humidity required:{0:.2f}\".format(x[\"humidity\"].min()))\n",
    "    print(\"Average humidity required:{0:.2f}\".format(x[\"humidity\"].mean()))\n",
    "    print(\"Maximum humidity required:{0:.2f}\".format(x[\"humidity\"].max()))\n",
    "    print(\"-------------------------------------\")\n",
    "    print(\"Statistics for PH\")\n",
    "    print(\"Minumum PH required:{0:.2f}\".format(x[\"ph\"].min()))\n",
    "    print(\"Average PH required:{0:.2f}\".format(x[\"ph\"].mean()))\n",
    "    print(\"Maximum PH required:{0:.2f}\".format(x[\"ph\"].max()))\n",
    "    print(\"-------------------------------------\")\n",
    "    print(\"Statistics for Rainfall\")\n",
    "    print(\"Minumum Rainfall required:{0:.2f}\".format(x[\"rainfall\"].min()))\n",
    "    print(\"Average Rainfall required:{0:.2f}\".format(x[\"rainfall\"].mean()))\n",
    "    print(\"Maximum Rainfall required:{0:.2f}\".format(x[\"rainfall\"].max()))\n",
    "    \n",
    "    \n",
    "   \n",
    "    "
   ]
  },
  {
   "cell_type": "code",
   "execution_count": 13,
   "id": "2d4ee2c7",
   "metadata": {},
   "outputs": [
    {
     "data": {
      "application/vnd.jupyter.widget-view+json": {
       "model_id": "ea07c30889e6406bbad589e270afe449",
       "version_major": 2,
       "version_minor": 0
      },
      "text/plain": [
       "interactive(children=(Dropdown(description='conditions', options=('N', 'P', 'K', 'temperature', 'ph', 'humidit…"
      ]
     },
     "metadata": {},
     "output_type": "display_data"
    }
   ],
   "source": [
    "## compare the Average requirement for each crops with average conditions\n",
    "@interact\n",
    "def compare(conditions=[\"N\",\"P\",\"K\",\"temperature\",\"ph\",\"humidity\",\"rainfall\"]):\n",
    "    print(\"Average value for\",conditions,\"is{0:.2f}\".format(data[conditions].mean()))\n",
    "    print(\"--------------------------------------\")\n",
    "    print(\"Rice:{0:.2f}\".format(data[data[\"label\"]==\"rice\"][conditions].mean()))\n",
    "    print(\"blackgram:{0:.2f}\".format(data[data[\"label\"]==\"blackgram\"][conditions].mean()))\n",
    "    print(\"apple :{0:.2f}\".format(data[data[\"label\"]==\"apple\"][conditions].mean()))\n",
    "    print(\"pomegranate:{0:.2f}\".format(data[data[\"label\"]==\"pomegranate\"][conditions].mean()))\n",
    "    print(\"lentil:{0:.2f}\".format(data[data[\"label\"]==\"lentil\"][conditions].mean()))\n",
    "    print(\"coconut :{0:.2f}\".format(data[data[\"label\"]==\"coconut\"][conditions].mean()))\n",
    "    print(\"pigeonpeas:{0:.2f}\".format(data[data[\"label\"]==\"pigeonpeas\"][conditions].mean()))\n",
    "    print(\"muskmelon:{0:.2f}\".format(data[data[\"label\"]==\"muskmelon\"][conditions].mean()))\n",
    "    print(\"orange:{0:.2f}\".format(data[data[\"label\"]==\"orange\"][conditions].mean()))\n",
    "    print(\"coffee:{0:.2f}\".format(data[data[\"label\"]==\"coffee\"][conditions].mean()))\n",
    "    print(\"grapes:{0:.2f}\".format(data[data[\"label\"]==\"grapes\"][conditions].mean()))\n",
    "    print(\"watermelon:{0:.2f}\".format(data[data[\"label\"]==\"watermelon\"][conditions].mean()))\n",
    "    print(\"kidneybeans:{0:.2f}\".format(data[data[\"label\"]==\"kidneybeans\"][conditions].mean()))\n",
    "    print(\"papaya:{0:.2f}\".format(data[data[\"label\"]==\"papaya\"][conditions].mean()))\n",
    "    print(\"chickpea:{0:.2f}\".format(data[data[\"label\"]==\"chickpea\"][conditions].mean()))\n",
    "    print(\"cotton:{0:.2f}\".format(data[data[\"label\"]==\"cotton\"][conditions].mean()))\n",
    "    print(\"mungbean:{0:.2f}\".format(data[data[\"label\"]==\"mungbean\"][conditions].mean()))\n",
    "    print(\"jute:{0:.2f}\".format(data[data[\"label\"]==\"jute\"][conditions].mean()))\n",
    "    print(\"mango:{0:.2f}\".format(data[data[\"label\"]==\"mango\"][conditions].mean()))\n",
    "    print(\"maize:{0:.2f}\".format(data[data[\"label\"]==\"maize\"][conditions].mean()))\n",
    "    print(\"mothbeans:{0:.2f}\".format(data[data[\"label\"]==\"mothbeans\"][conditions].mean()))\n",
    "   "
   ]
  },
  {
   "cell_type": "code",
   "execution_count": 16,
   "id": "42354658",
   "metadata": {},
   "outputs": [
    {
     "data": {
      "application/vnd.jupyter.widget-view+json": {
       "model_id": "47ae2e9d3c90402a9eea66defa678cd0",
       "version_major": 2,
       "version_minor": 0
      },
      "text/plain": [
       "interactive(children=(Dropdown(description='conditions', options=('N', 'P', 'K', 'temperature', 'ph', 'humidit…"
      ]
     },
     "metadata": {},
     "output_type": "display_data"
    }
   ],
   "source": [
    "## Make this function more Interactive @interactive function is used for to intract with the data that presrnt in the file in order make our view.\n",
    "##In this function we compare the Nitrogen,Pottassium,Phosphorus  ## with temperature ph-value ,Humidity followed by Rsinfall.\n",
    "@interact\n",
    "def compare(conditions=[\"N\",\"P\",\"K\",\"temperature\",\"ph\",\"humidity\",\"rainfall\"]):\n",
    "    print(\"Crops which require grater then average\",conditions,\"\\n\")\n",
    "    print(data[data[conditions]>data[conditions].mean()][\"label\"].unique())\n",
    "    print(\"-----------------------------------\")\n",
    "    print(\"Crops which required less then average\",conditions,\"\\n\")\n",
    "    print(data[data[conditions]<=data[conditions].mean()][\"label\"].unique())"
   ]
  },
  {
   "cell_type": "code",
   "execution_count": null,
   "id": "2cea2ebd",
   "metadata": {},
   "outputs": [],
   "source": []
  }
 ],
 "metadata": {
  "kernelspec": {
   "display_name": "Python 3",
   "language": "python",
   "name": "python3"
  },
  "language_info": {
   "codemirror_mode": {
    "name": "ipython",
    "version": 3
   },
   "file_extension": ".py",
   "mimetype": "text/x-python",
   "name": "python",
   "nbconvert_exporter": "python",
   "pygments_lexer": "ipython3",
   "version": "3.8.8"
  }
 },
 "nbformat": 4,
 "nbformat_minor": 5
}
